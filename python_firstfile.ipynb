{
  "nbformat": 4,
  "nbformat_minor": 0,
  "metadata": {
    "colab": {
      "provenance": [],
      "authorship_tag": "ABX9TyNWW6glARfzPFzsyGb+VSUD"
    },
    "kernelspec": {
      "name": "python3",
      "display_name": "Python 3"
    },
    "language_info": {
      "name": "python"
    }
  },
  "cells": [
    {
      "cell_type": "code",
      "execution_count": 2,
      "metadata": {
        "colab": {
          "base_uri": "https://localhost:8080/"
        },
        "id": "8ZapD2e7M9au",
        "outputId": "8dbefc2f-9baa-49b8-faab-6a9a898d1690"
      },
      "outputs": [
        {
          "output_type": "stream",
          "name": "stdout",
          "text": [
            "Welcome to Stone, Paper, Scissors!\n",
            "Enter 's' for Stone, 'p' for Paper, 'r' for Scissors, or 'q' to quit.\n",
            "Your choice: p\n",
            "Computer chose: p\n",
            "It's a tie!\n",
            "Your choice: s\n",
            "Computer chose: p\n",
            "You lose!\n",
            "Your choice: p\n",
            "Computer chose: p\n",
            "It's a tie!\n",
            "Your choice: r\n",
            "Computer chose: p\n",
            "You win!\n",
            "Your choice: s\n",
            "Computer chose: r\n",
            "You win!\n",
            "Your choice: q\n",
            "Thanks for playing!\n"
          ]
        }
      ],
      "source": [
        "# prompt: make a program of stone paper scissor with shortcut\n",
        "\n",
        "import random\n",
        "\n",
        "def game():\n",
        "    print(\"Welcome to Stone, Paper, Scissors!\")\n",
        "    print(\"Enter 's' for Stone, 'p' for Paper, 'r' for Scissors, or 'q' to quit.\")\n",
        "\n",
        "    while True:\n",
        "        user_choice = input(\"Your choice: \").lower()\n",
        "\n",
        "        if user_choice == 'q':\n",
        "            print(\"Thanks for playing!\")\n",
        "            break\n",
        "        elif user_choice not in ['s', 'p', 'r']:\n",
        "            print(\"Invalid input. Please enter 's', 'p', 'r', or 'q'.\")\n",
        "            continue\n",
        "\n",
        "        computer_choice = random.choice(['s', 'p', 'r'])\n",
        "\n",
        "        print(f\"Computer chose: {computer_choice}\")\n",
        "\n",
        "        if user_choice == computer_choice:\n",
        "            print(\"It's a tie!\")\n",
        "        elif (user_choice == 's' and computer_choice == 'r') or \\\n",
        "             (user_choice == 'p' and computer_choice == 's') or \\\n",
        "             (user_choice == 'r' and computer_choice == 'p'):\n",
        "            print(\"You win!\")\n",
        "        else:\n",
        "            print(\"You lose!\")\n",
        "\n",
        "game()"
      ]
    }
  ]
}