{
  "nbformat": 4,
  "nbformat_minor": 0,
  "metadata": {
    "colab": {
      "provenance": [],
      "authorship_tag": "ABX9TyM8gW3kaTL3CPbBSnPLERDl"
    },
    "kernelspec": {
      "name": "python3",
      "display_name": "Python 3"
    },
    "language_info": {
      "name": "python"
    }
  },
  "cells": [
    {
      "cell_type": "markdown",
      "source": [
        "chapter 1"
      ],
      "metadata": {
        "id": "_5gfxEYrwkIt"
      }
    },
    {
      "cell_type": "markdown",
      "source": [
        "# **pip modules comments**\n"
      ],
      "metadata": {
        "id": "pVUnwoeicyTc"
      }
    },
    {
      "cell_type": "code",
      "source": [
        "import pyjokes\n",
        "joke = pyjokes.get_jokes()\n",
        "print(joke)"
      ],
      "metadata": {
        "colab": {
          "base_uri": "https://localhost:8080/"
        },
        "id": "qy5Np1qVzDOH",
        "outputId": "21cffb17-5b1c-436d-8361-0788b8e19ac1"
      },
      "execution_count": 19,
      "outputs": [
        {
          "output_type": "stream",
          "name": "stdout",
          "text": [
            "[\"Complaining about the lack of smoking shelters, the nicotine addicted Python programmers said there ought to be 'spaces for tabs'.\", 'Ubuntu users are apt to get this joke.', 'Obfuscated Reality Mappers (ORMs) can be useful database tools.', 'Asked to explain Unicode during an interview, Geoff went into detail about his final year university project. He was not hired.', \"Triumphantly, Beth removed Python 2.7 from her server in 2030. 'Finally!' she said with glee, only to see the announcement for Python 4.4.\", \"An SQL query goes into a bar, walks up to two tables and asks, 'Can I join you?'\", 'When your hammer is C++, everything begins to look like a thumb.', 'If you put a million monkeys at a million keyboards, one of them will eventually write a Java program. The rest of them will write Perl.', 'To understand recursion you must first understand recursion.', \"I suggested holding a 'Python Object Oriented Programming Seminar', but the acronym was unpopular.\", \"'Knock, knock.' 'Who's there?' ... very long pause ... 'Java.'\", \"How many programmers does it take to change a lightbulb? None, that's a hardware problem.\", \"What's the object-oriented way to become wealthy? Inheritance.\", \"Why don't jokes work in octal? Because 7 10 11.\", 'How many programmers does it take to change a lightbulb? None, they just make darkness a standard.', \"Two bytes meet. The first byte asks, 'Are you ill?' The second byte replies, 'No, just feeling a bit off.'\", \"Two threads walk into a bar. The barkeeper looks up and yells, 'Hey, I want don't any conditions race like time last!'\", \"Old C programmers don't die, they're just cast into void.\", \"Eight bytes walk into a bar. The bartender asks, 'Can I get you anything?' 'Yeah,' replies the bytes. 'Make us a double.'\", \"Why did the programmer quit his job? Because he didn't get arrays.\", \"Why do Java programmers have to wear glasses? Because they don't see sharp.\", 'Software developers like to solve problems. If there are no problems handily available, they will create their own.', \".NET was named .NET so that it wouldn't show up in a Unix directory listing.\", 'Hardware: The part of a computer that you can kick.', \"A programmer was found dead in the shower. Next to their body was a bottle of shampoo with the instructions 'Lather, Rinse and Repeat'.\", 'Optimist: The glass is half full. Pessimist: The glass is half empty. Programmer: The glass is twice as large as necessary.', 'In C we had to code our own bugs. In C++ we can inherit them.', 'How come there is no obfuscated Perl contest? Because everyone would win.', \"If you play a Windows CD backwards, you'll hear satanic chanting ... worse still, if you play it forwards, it installs Windows.\", 'How many programmers does it take to kill a cockroach? Two: one holds, the other installs Windows on it.', 'What do you call a programmer from Finland? Nerdic.', \"What did the Java code say to the C code? A: You've got no class.\", \"Why did Microsoft name their search engine BING? Because It's Not Google.\", \"Pirates go 'arg!', computer pirates go 'argv!'\", 'Software salesmen and used-car salesmen differ in that the latter know when they are lying.', \"Child: Dad, why does the sun rise in the east and set in the west? Dad: Son, it's working, don't touch it.\", 'Why do programmers confuse Halloween with Christmas? Because OCT 31 == DEC 25.', 'How many Prolog programmers does it take to change a lightbulb? false.', 'Real programmers can write assembly code in any language.', 'Waiter: Would you like coffee or tea? Programmer: Yes.', 'What do you get when you cross a cat and a dog? Cat dog sin theta.', \"If loving you is ROM I don't wanna read write.\", 'A programmer walks into a foo...', \"A programmer walks into a bar and orders 1.38 root beers. The bartender informs her it's a root beer float. She says 'Make it a double!'\", \"What is Benoit B. Mandelbrot's middle name? Benoit B. Mandelbrot.\", \"Why are you always smiling? That's just my... regular expression.\", 'ASCII stupid question, get a stupid ANSI.', \"A programmer had a problem. He thought to himself, 'I know, I'll solve it with threads!'. has Now problems. two he\", 'Why do sin and tan work? Just cos.', 'Java: Write once, run away.', 'I would tell you a joke about UDP, but you would never get it.', 'A QA engineer walks into a bar. Runs into a bar. Crawls into a bar. Dances into a bar. Tiptoes into a bar. Rams a bar. Jumps into a bar.', \"My friend's in a band called '1023 Megabytes'... They haven't got a gig yet!\", \"I had a problem so I thought I'd use Java. Now I have a ProblemFactory.\", 'QA Engineer walks into a bar. Orders a beer. Orders 0 beers. Orders 999999999 beers. Orders a lizard. Orders -1 beers. Orders a sfdeljknesv.', 'A product manager walks into a bar, asks for drink. Bartender says no, but will consider adding later.', 'How do you generate a random string? Put a first year Computer Science student in Vim and ask them to save and exit.', \"I've been using Vim for a long time now, mainly because I can't figure out how to exit.\", \"How do you know whether a person is a Vim user? Don't worry, they'll tell you.\", \"Waiter: He's choking! Is anyone a doctor? Programmer: I'm a Vim user.\", \"3 Database Admins walked into a NoSQL bar. A little while later they walked out because they couldn't find a table.\", 'How to explain the movie Inception to a programmer? When you run a VM inside another VM, inside another VM ... everything runs real slow!', 'What do you call a parrot that says \"Squawk! Pieces of nine! Pieces of nine!\"? A parrot-ey error.', 'There are only two hard problems in Computer Science: cache invalidation, naming things and off-by-one-errors.', \"There are 10 types of people: those who understand binary and those who don't.\", 'There are 2 types of people: those who can extrapolate from incomplete data sets...', \"There are II types of people: Those who understand Roman Numerals and those who don't.\", 'There are 10 types of people: those who understand hexadecimal and 15 others.', \"There are 10 types of people: those who understand binary, those who don't, and those who were expecting this joke to be in trinary.\", \"There are 10 types of people: those who understand trinary, those who don't, and those who have never heard of it.\", 'What do you call eight hobbits? A hobbyte.', 'The best thing about a Boolean is even if you are wrong, you are only off by a bit.', 'A good programmer is someone who always looks both ways before crossing a one-way street.', 'There are two ways to write error-free programs; only the third one works.', 'QAs consist of 55% water, 30% blood and 15% Jira tickets.', 'Sympathy for the Devil is really just about being nice to QAs.', \"How many QAs does it take to change a lightbulb? They noticed that the room was dark. They don't fix problems, they find them.\", 'A programmer crashes a car at the bottom of a hill, a bystander asks what happened, he says \"No idea. Let\\'s push it back up and try again\".', \"What do you mean 911 is only for emergencies? I've got a merge conflict.\", \"Writing PHP is like peeing in the swimming pool, everyone did it, but we don't need to bring it up in public.\", \"Why did the QA cross the road? To ruin everyone's day.\", 'Number of days since I have encountered an array index error: -1.', 'Number of days since I have encountered an off-by-one error: 0.', 'Speed dating is useless. 5 minutes is not enough to properly explain the benefits of the Unix philosophy.', 'Microsoft hold a bi-monthly internal \"productive week\" where they use Google instead of Bing.', \"Schrodinger's attitude to web development: If I don't look at it in Internet Explorer then there's a chance it looks fine.\", 'Finding a good PHP developer is like looking for a needle in a haystack. Or is it a hackstack in a needle?', \"Unix is user friendly. It's just very particular about who its friends are.\", 'A COBOL programmer makes millions with Y2K remediation and decides to get cryogenically frozen. \"The year is 9999. You know COBOL, right?\"', 'The C language combines all the power of assembly language with all the ease-of-use of assembly language.', 'An SEO expert walks into a bar, bars, pub, public house, Irish pub, tavern, bartender, beer, liquor, wine, alcohol, spirits...', \"What does 'Emacs' stand for? 'Exclusively used by middle aged computer scientists.'\", 'What does pyjokes have in common with Adobe Flash? It gets updated all the time, but never gets any better.', \"Why does Waldo only wear stripes? Because he doesn't want to be spotted.\", 'I went to a street where the houses were numbered 8k, 16k, 32k, 64k, 128k, 256k and 512k. It was a trip down Memory Lane.', \"!false, (It's funny because it's true)\", \"['hip', 'hip'] (hip hip array!)\", \"Programmer: The ship I boarded crashed and I am dying! Project Manager: Then let's do a quick knowledge transfer session before you go.\", 'Are you a RESTful API? because you GET my attention, PUT some love, POST the cutest smile, and DELETE my bad day.', 'I used to know a joke about Java, but I run out of memory.', 'My girlfriend dumped me after I named a class after her. She felt I treated her like an object.', 'Girl: Do you drink? Programmer: No. Girl: Have Girlfriend? Programmer: No. Girl: Then how do you enjoy life? Programmer: I am Programmer', 'A Programmer was walking out of door for work, his wife said \"while you\\'re out, buy some milk\" and he never returned.', 'A: What is your address? Me: 173.168.15.10 A: No, your local address Me: 127.0.0.1 A: I mean your physical address B: 29:01:38:62:31:58', 'Why do programmers always mix up Halloween and Christmas? Because Oct 31 equals Dec 25.', 'Programming is 10% science, 20% ingenuity, and 70% getting the ingenuity to work with the science.', 'There are three kinds of lies: Lies, damned lies, and benchmarks.', 'All programmers are playwrights, and all computers are lousy actors.', \"Have you heard about the new Cray super computer? It's so fast, it executes an infinite loop in 6 seconds.\", 'The generation of random numbers is too important to be left to chance.', 'I just saw my life flash before my eyes and all I could see was a close tag.', 'The computer is mightier than the pen, the sword, and usually, the programmer', 'Debugging: Removing the needles from the haystack.', 'If doctors were like software engineers, they would say things like Have you tried killing yourself and being reborn?', 'Debugging is like being the detective in a crime drama where you are also the murderer.', 'The best thing about a Boolean is that even if you are wrong, you are only off by a bit.', 'If you listen to a UNIX shell, can you hear the C?', \"Why do Java programmers have to wear glasses? Because they don't C#.\", 'When Apple employees die, does their life HTML5 in front of their eyes?', 'What did the router say to the doctor? It hurts when IP.', 'Learning JavaScript is like looking both ways before you cross the street, and then getting hit by an airplane.', 'I for one am excited for the days when dereferencing a null pointer causes an aneurysm.', 'Debugging is like an onion. There are multiple layers to it, and the more you peel them back.', \"When your code does not change color automatically, Something's wrong, I can feel it.\", 'I have a joke on programming but it only works on my computer.', \"Why do you always use i and j variales in loops? It's the law......\", 'As far as we know, our computer has never had an undetected error.', 'A user friendly computer first requires a friendly user.', \"Bug? That's not a bug, that's a feature.\", 'Buy a Pentium 586/200 so you can reboot faster.', \"Computer analyst to programmer: You start coding. I'll go find out what they want.\", 'Computer programmers do it byte by byte.', \"Don't compute and drive; the life you save may be your own.\", 'How an engineer writes a program: Start by debugging an empty file...', \"If at first you don't succeed, call it version 1.0.\", 'I have a dream: 1073741824 bytes free.', \"I haven't lost my mind; it's backed up on tape somewhere.\", 'Is reading in the bathroom considered Multi-Tasking.', \"Never say 'OOPS!' always say 'Ah, Interesting!'\", \"One person's error is another person's data.\", 'Press CTRL-ALT-DEL to continue....', \"Programmer's Time-Space Continuum: Programmers continuously space the time.\", 'Speed Kills! Use Windows.', \"The box said: 'install on Windows 95, NT 4.0 or better'. So I installed it on Linux.\", 'The program is absolutely right; therefore the computer must be wrong.', \"There are only 10 types of people in this world: those who understand binary, and those who don't.\", 'There were computers in Biblical times. Eve had an Apple.', 'Those who can, do. Those who cannot, teach. Those who cannot teach, HACK!', 'User error: replace user and press any key to continue.', 'Warning, keyboard not found. Press Enter to continue.', \"Why do they call this a word processor? It's simple, ... you've seen what food processors do to food, right?\", 'Why do we want intelligent terminals when there are so many stupid users?', 'Windows is NOT a virus. Viruses DO something.', 'WINDOWS stands for Will Install Needless Data On Whole System.', 'You are making progress if each mistake is a new one.', 'You had mail, but the super-user read it, and deleted it!', 'You never finish a program, you just stop working on it.', \"You don't have to know how the computer works, just how to work the computer.\", \"You forgot to do your backup 16 days ago. Tomorrow you'll need that version.\", \"I love pressing the F5 key. It's refreshing.\", 'My favourite computer based band is the Black IPs.', \"Why was the developer bankrupt? He'd used all his cache.\", \"A friend is in a band called 1023Mb. They haven't had a gig yet.\", \"Apparently my password needs to be capitals only so I've changed it to LONDONMADRIDROME\", \"I changed my password to BeefStew but the computer told me it wasn't Stroganoff.\", \"Changed my password to fortnight but apparently that's two week.\", 'Artificial intelligence usually beats real stupidity.', 'The Internet: where men are men, women are men, and children are FBI agents.', 'Bugs come in through open Windows.', \"Unix is user friendly. It's just selective about who its friends are.\", 'Failure is not an option. It comes bundled with your Microsoft product.', 'Computers are like air conditioners: they stop working when you open Windows.', 'Beware of programmers that carry screwdrivers.', \"I'm not anti-social; I'm just not user friendly.\", 'Hey! It compiles! Ship it!', \"If Ruby is not and Perl is the answer, you don't understand the question.\", \"My attitude isn't bad. It's in beta.\", 'Programmers are tools for converting caffeine into code.', \"There are three kinds of people: those who can count and those who can't.\", 'Why do programmers prefer dark mode? Because light attracts bugs.']\n"
          ]
        }
      ]
    },
    {
      "cell_type": "code",
      "source": [
        "print('''twinkle, twinkle, little star,\n",
        "How I wonder what you are!\n",
        "Up above the world so high,\n",
        "Like a diamond in the sky.\n",
        "\n",
        "When the blazing sun is gone,\n",
        "When he nothing shines upon,\n",
        "Then you show your little light,\n",
        "Twinkle, twinkle, all the night.\n",
        "\n",
        "Then the traveler in the dark\n",
        "Thanks you for your tiny spark,\n",
        "How could he see where to go,\n",
        "If you did not twinkle so?\n",
        "\n",
        "In the dark blue sky you keep,\n",
        "Often through my curtains peep\n",
        "For you never shut your eye,\n",
        "Till the sun is in the sky.\n",
        "\n",
        "As your bright and tiny spark\n",
        "Lights the traveler in the dark,\n",
        "Though I know not what you are,\n",
        "Twinkle, twinkle, little star.'''\n",
        ")"
      ],
      "metadata": {
        "colab": {
          "base_uri": "https://localhost:8080/"
        },
        "id": "HwexfcbW5baz",
        "outputId": "4957469b-29d7-474b-a410-f5ef44c47a49"
      },
      "execution_count": 20,
      "outputs": [
        {
          "output_type": "stream",
          "name": "stdout",
          "text": [
            "twinkle, twinkle, little star,\n",
            "How I wonder what you are!\n",
            "Up above the world so high,\n",
            "Like a diamond in the sky.\n",
            "\n",
            "When the blazing sun is gone,\n",
            "When he nothing shines upon,\n",
            "Then you show your little light,\n",
            "Twinkle, twinkle, all the night.\n",
            "\n",
            "Then the traveler in the dark\n",
            "Thanks you for your tiny spark,\n",
            "How could he see where to go,\n",
            "If you did not twinkle so?\n",
            "\n",
            "In the dark blue sky you keep,\n",
            "Often through my curtains peep\n",
            "For you never shut your eye,\n",
            "Till the sun is in the sky.\n",
            "\n",
            "As your bright and tiny spark\n",
            "Lights the traveler in the dark,\n",
            "Though I know not what you are,\n",
            "Twinkle, twinkle, little star.\n"
          ]
        }
      ]
    },
    {
      "cell_type": "code",
      "source": [
        "!pip install pyttsx3"
      ],
      "metadata": {
        "colab": {
          "base_uri": "https://localhost:8080/"
        },
        "id": "GLYCtBVg5cC0",
        "outputId": "f92c41b0-983d-4012-eef0-70a16d301553"
      },
      "execution_count": 22,
      "outputs": [
        {
          "output_type": "stream",
          "name": "stdout",
          "text": [
            "Collecting pyttsx3\n",
            "  Downloading pyttsx3-2.98-py3-none-any.whl.metadata (3.8 kB)\n",
            "Downloading pyttsx3-2.98-py3-none-any.whl (34 kB)\n",
            "Installing collected packages: pyttsx3\n",
            "Successfully installed pyttsx3-2.98\n"
          ]
        }
      ]
    },
    {
      "cell_type": "code",
      "source": [
        "!sudo apt update && sudo apt install -y espeak libespeak-dev build-essential python3-dev\n"
      ],
      "metadata": {
        "colab": {
          "base_uri": "https://localhost:8080/"
        },
        "id": "wzakIfBVC0E2",
        "outputId": "67656f40-7a08-41cc-e84e-e3589e52bfbd"
      },
      "execution_count": 34,
      "outputs": [
        {
          "output_type": "stream",
          "name": "stdout",
          "text": [
            "Hit:1 http://archive.ubuntu.com/ubuntu jammy InRelease\n",
            "Get:2 http://archive.ubuntu.com/ubuntu jammy-updates InRelease [128 kB]\n",
            "Get:3 https://developer.download.nvidia.com/compute/cuda/repos/ubuntu2204/x86_64  InRelease [1,581 B]\n",
            "Get:4 https://cloud.r-project.org/bin/linux/ubuntu jammy-cran40/ InRelease [3,628 B]\n",
            "Get:5 https://r2u.stat.illinois.edu/ubuntu jammy InRelease [6,555 B]\n",
            "Get:6 https://developer.download.nvidia.com/compute/cuda/repos/ubuntu2204/x86_64  Packages [1,801 kB]\n",
            "Get:7 http://archive.ubuntu.com/ubuntu jammy-backports InRelease [127 kB]\n",
            "Hit:8 https://ppa.launchpadcontent.net/deadsnakes/ppa/ubuntu jammy InRelease\n",
            "Hit:9 https://ppa.launchpadcontent.net/graphics-drivers/ppa/ubuntu jammy InRelease\n",
            "Get:10 https://r2u.stat.illinois.edu/ubuntu jammy/main all Packages [9,067 kB]\n",
            "Hit:11 https://ppa.launchpadcontent.net/ubuntugis/ppa/ubuntu jammy InRelease\n",
            "Get:12 http://security.ubuntu.com/ubuntu jammy-security InRelease [129 kB]\n",
            "Get:13 http://archive.ubuntu.com/ubuntu jammy-updates/universe amd64 Packages [1,561 kB]\n",
            "Get:14 http://archive.ubuntu.com/ubuntu jammy-updates/main amd64 Packages [3,350 kB]\n",
            "Get:15 http://archive.ubuntu.com/ubuntu jammy-updates/restricted amd64 Packages [4,741 kB]\n",
            "Get:16 https://r2u.stat.illinois.edu/ubuntu jammy/main amd64 Packages [2,750 kB]\n",
            "Get:17 http://security.ubuntu.com/ubuntu jammy-security/main amd64 Packages [3,040 kB]\n",
            "Get:18 http://security.ubuntu.com/ubuntu jammy-security/restricted amd64 Packages [4,587 kB]\n",
            "Get:19 http://security.ubuntu.com/ubuntu jammy-security/universe amd64 Packages [1,254 kB]\n",
            "Fetched 32.5 MB in 3s (9,900 kB/s)\n",
            "Reading package lists... Done\n",
            "Building dependency tree... Done\n",
            "Reading state information... Done\n",
            "36 packages can be upgraded. Run 'apt list --upgradable' to see them.\n",
            "\u001b[1;33mW: \u001b[0mSkipping acquire of configured file 'main/source/Sources' as repository 'https://r2u.stat.illinois.edu/ubuntu jammy InRelease' does not seem to provide it (sources.list entry misspelt?)\u001b[0m\n",
            "Reading package lists... Done\n",
            "Building dependency tree... Done\n",
            "Reading state information... Done\n",
            "build-essential is already the newest version (12.9ubuntu3).\n",
            "python3-dev is already the newest version (3.10.6-1~22.04.1).\n",
            "python3-dev set to manually installed.\n",
            "The following additional packages will be installed:\n",
            "  espeak-data libespeak1 libportaudio2 libsonic0\n",
            "The following NEW packages will be installed:\n",
            "  espeak espeak-data libespeak-dev libespeak1 libportaudio2 libsonic0\n",
            "0 upgraded, 6 newly installed, 0 to remove and 36 not upgraded.\n",
            "Need to get 1,575 kB of archives.\n",
            "After this operation, 3,802 kB of additional disk space will be used.\n",
            "Get:1 http://archive.ubuntu.com/ubuntu jammy/universe amd64 libportaudio2 amd64 19.6.0-1.1 [65.3 kB]\n",
            "Get:2 http://archive.ubuntu.com/ubuntu jammy/main amd64 libsonic0 amd64 0.2.0-11build1 [10.3 kB]\n",
            "Get:3 http://archive.ubuntu.com/ubuntu jammy/universe amd64 espeak-data amd64 1.48.15+dfsg-3 [1,085 kB]\n",
            "Get:4 http://archive.ubuntu.com/ubuntu jammy/universe amd64 libespeak1 amd64 1.48.15+dfsg-3 [156 kB]\n",
            "Get:5 http://archive.ubuntu.com/ubuntu jammy/universe amd64 espeak amd64 1.48.15+dfsg-3 [64.2 kB]\n",
            "Get:6 http://archive.ubuntu.com/ubuntu jammy/universe amd64 libespeak-dev amd64 1.48.15+dfsg-3 [193 kB]\n",
            "Fetched 1,575 kB in 1s (1,089 kB/s)\n",
            "debconf: unable to initialize frontend: Dialog\n",
            "debconf: (No usable dialog-like program is installed, so the dialog based frontend cannot be used. at /usr/share/perl5/Debconf/FrontEnd/Dialog.pm line 78, <> line 6.)\n",
            "debconf: falling back to frontend: Readline\n",
            "debconf: unable to initialize frontend: Readline\n",
            "debconf: (This frontend requires a controlling tty.)\n",
            "debconf: falling back to frontend: Teletype\n",
            "dpkg-preconfigure: unable to re-open stdin: \n",
            "Selecting previously unselected package libportaudio2:amd64.\n",
            "(Reading database ... 126308 files and directories currently installed.)\n",
            "Preparing to unpack .../0-libportaudio2_19.6.0-1.1_amd64.deb ...\n",
            "Unpacking libportaudio2:amd64 (19.6.0-1.1) ...\n",
            "Selecting previously unselected package libsonic0:amd64.\n",
            "Preparing to unpack .../1-libsonic0_0.2.0-11build1_amd64.deb ...\n",
            "Unpacking libsonic0:amd64 (0.2.0-11build1) ...\n",
            "Selecting previously unselected package espeak-data:amd64.\n",
            "Preparing to unpack .../2-espeak-data_1.48.15+dfsg-3_amd64.deb ...\n",
            "Unpacking espeak-data:amd64 (1.48.15+dfsg-3) ...\n",
            "Selecting previously unselected package libespeak1:amd64.\n",
            "Preparing to unpack .../3-libespeak1_1.48.15+dfsg-3_amd64.deb ...\n",
            "Unpacking libespeak1:amd64 (1.48.15+dfsg-3) ...\n",
            "Selecting previously unselected package espeak.\n",
            "Preparing to unpack .../4-espeak_1.48.15+dfsg-3_amd64.deb ...\n",
            "Unpacking espeak (1.48.15+dfsg-3) ...\n",
            "Selecting previously unselected package libespeak-dev:amd64.\n",
            "Preparing to unpack .../5-libespeak-dev_1.48.15+dfsg-3_amd64.deb ...\n",
            "Unpacking libespeak-dev:amd64 (1.48.15+dfsg-3) ...\n",
            "Setting up libportaudio2:amd64 (19.6.0-1.1) ...\n",
            "Setting up libsonic0:amd64 (0.2.0-11build1) ...\n",
            "Setting up espeak-data:amd64 (1.48.15+dfsg-3) ...\n",
            "Setting up libespeak1:amd64 (1.48.15+dfsg-3) ...\n",
            "Setting up espeak (1.48.15+dfsg-3) ...\n",
            "Setting up libespeak-dev:amd64 (1.48.15+dfsg-3) ...\n",
            "Processing triggers for man-db (2.10.2-1) ...\n",
            "Processing triggers for libc-bin (2.35-0ubuntu3.8) ...\n",
            "/sbin/ldconfig.real: /usr/local/lib/libtbbbind.so.3 is not a symbolic link\n",
            "\n",
            "/sbin/ldconfig.real: /usr/local/lib/libur_adapter_level_zero.so.0 is not a symbolic link\n",
            "\n",
            "/sbin/ldconfig.real: /usr/local/lib/libur_adapter_level_zero_v2.so.0 is not a symbolic link\n",
            "\n",
            "/sbin/ldconfig.real: /usr/local/lib/libtbb.so.12 is not a symbolic link\n",
            "\n",
            "/sbin/ldconfig.real: /usr/local/lib/libtbbbind_2_5.so.3 is not a symbolic link\n",
            "\n",
            "/sbin/ldconfig.real: /usr/local/lib/libur_adapter_opencl.so.0 is not a symbolic link\n",
            "\n",
            "/sbin/ldconfig.real: /usr/local/lib/libumf.so.0 is not a symbolic link\n",
            "\n",
            "/sbin/ldconfig.real: /usr/local/lib/libtbbbind_2_0.so.3 is not a symbolic link\n",
            "\n",
            "/sbin/ldconfig.real: /usr/local/lib/libtbbmalloc.so.2 is not a symbolic link\n",
            "\n",
            "/sbin/ldconfig.real: /usr/local/lib/libtbbmalloc_proxy.so.2 is not a symbolic link\n",
            "\n",
            "/sbin/ldconfig.real: /usr/local/lib/libur_loader.so.0 is not a symbolic link\n",
            "\n",
            "/sbin/ldconfig.real: /usr/local/lib/libtcm_debug.so.1 is not a symbolic link\n",
            "\n",
            "/sbin/ldconfig.real: /usr/local/lib/libtcm.so.1 is not a symbolic link\n",
            "\n",
            "/sbin/ldconfig.real: /usr/local/lib/libhwloc.so.15 is not a symbolic link\n",
            "\n"
          ]
        }
      ]
    },
    {
      "cell_type": "code",
      "source": [
        "!pip install python-espeak"
      ],
      "metadata": {
        "colab": {
          "base_uri": "https://localhost:8080/"
        },
        "id": "yapIbFMr_mhz",
        "outputId": "9c4576ec-624c-4836-be1a-8520fdfee92c"
      },
      "execution_count": 35,
      "outputs": [
        {
          "output_type": "stream",
          "name": "stdout",
          "text": [
            "Collecting python-espeak\n",
            "  Using cached python-espeak-0.6.3.tar.gz (9.1 kB)\n",
            "  Preparing metadata (setup.py) ... \u001b[?25l\u001b[?25hdone\n",
            "Building wheels for collected packages: python-espeak\n",
            "  Building wheel for python-espeak (setup.py) ... \u001b[?25l\u001b[?25hdone\n",
            "  Created wheel for python-espeak: filename=python_espeak-0.6.3-cp311-cp311-linux_x86_64.whl size=33140 sha256=ac0b5f37b766685bb9901c55db57461a3a265822cb8a516ccbad1a483198eef3\n",
            "  Stored in directory: /root/.cache/pip/wheels/b4/f2/63/7080e9a3582401510521c3df220e70fbf471da188a8bc8c821\n",
            "Successfully built python-espeak\n",
            "Installing collected packages: python-espeak\n",
            "Successfully installed python-espeak-0.6.3\n"
          ]
        }
      ]
    },
    {
      "cell_type": "code",
      "source": [
        "!pip install gTTS\n"
      ],
      "metadata": {
        "colab": {
          "base_uri": "https://localhost:8080/"
        },
        "id": "rslzxo0ZEz-z",
        "outputId": "f9166b72-bdef-40fb-ab32-1b42298ccb6b"
      },
      "execution_count": 60,
      "outputs": [
        {
          "output_type": "stream",
          "name": "stdout",
          "text": [
            "Collecting gTTS\n",
            "  Downloading gTTS-2.5.4-py3-none-any.whl.metadata (4.1 kB)\n",
            "Requirement already satisfied: requests<3,>=2.27 in /usr/local/lib/python3.11/dist-packages (from gTTS) (2.32.3)\n",
            "Collecting click<8.2,>=7.1 (from gTTS)\n",
            "  Downloading click-8.1.8-py3-none-any.whl.metadata (2.3 kB)\n",
            "Requirement already satisfied: charset-normalizer<4,>=2 in /usr/local/lib/python3.11/dist-packages (from requests<3,>=2.27->gTTS) (3.4.2)\n",
            "Requirement already satisfied: idna<4,>=2.5 in /usr/local/lib/python3.11/dist-packages (from requests<3,>=2.27->gTTS) (3.10)\n",
            "Requirement already satisfied: urllib3<3,>=1.21.1 in /usr/local/lib/python3.11/dist-packages (from requests<3,>=2.27->gTTS) (2.4.0)\n",
            "Requirement already satisfied: certifi>=2017.4.17 in /usr/local/lib/python3.11/dist-packages (from requests<3,>=2.27->gTTS) (2025.6.15)\n",
            "Downloading gTTS-2.5.4-py3-none-any.whl (29 kB)\n",
            "Downloading click-8.1.8-py3-none-any.whl (98 kB)\n",
            "\u001b[2K   \u001b[90m━━━━━━━━━━━━━━━━━━━━━━━━━━━━━━━━━━━━━━━━\u001b[0m \u001b[32m98.2/98.2 kB\u001b[0m \u001b[31m3.5 MB/s\u001b[0m eta \u001b[36m0:00:00\u001b[0m\n",
            "\u001b[?25hInstalling collected packages: click, gTTS\n",
            "  Attempting uninstall: click\n",
            "    Found existing installation: click 8.2.1\n",
            "    Uninstalling click-8.2.1:\n",
            "      Successfully uninstalled click-8.2.1\n",
            "Successfully installed click-8.1.8 gTTS-2.5.4\n"
          ]
        }
      ]
    },
    {
      "cell_type": "code",
      "source": [
        "from gtts import gTTS\n",
        "from IPython.display import Audio\n",
        "\n",
        "tts = gTTS(\"i am fine..\", lang='en')\n",
        "tts.save(\"output.mp3\")\n",
        "Audio(\"output.mp3\")\n"
      ],
      "metadata": {
        "colab": {
          "base_uri": "https://localhost:8080/",
          "height": 76
        },
        "id": "ii8bqvaMDaXM",
        "outputId": "415c1059-fe65-4427-c8e2-595cc5a0e399"
      },
      "execution_count": 68,
      "outputs": [
        {
          "output_type": "execute_result",
          "data": {
            "text/plain": [
              "<IPython.lib.display.Audio object>"
            ],
            "text/html": [
              "\n",
              "                <audio  controls=\"controls\" >\n",
              "                    <source src=\"data:audio/mpeg;base64,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\" type=\"audio/mpeg\" />\n",
              "                    Your browser does not support the audio element.\n",
              "                </audio>\n",
              "              "
            ]
          },
          "metadata": {},
          "execution_count": 68
        }
      ]
    },
    {
      "cell_type": "markdown",
      "source": [
        "modules are basically written by someone else...\n",
        "\n",
        "Comments are used to write something which the programmer does not want to execute."
      ],
      "metadata": {
        "id": "44Ls3waC0Yv7"
      }
    },
    {
      "cell_type": "code",
      "source": [
        "import os\n",
        "cwd = os.getcwd()\n",
        "print(\"Current working directory:\", cwd)"
      ],
      "metadata": {
        "colab": {
          "base_uri": "https://localhost:8080/"
        },
        "id": "Jw-BVI1pdMjS",
        "outputId": "f4954d74-423f-4bf8-d364-0c653175592d"
      },
      "execution_count": 72,
      "outputs": [
        {
          "output_type": "stream",
          "name": "stdout",
          "text": [
            "Current working directory: /content\n"
          ]
        }
      ]
    },
    {
      "cell_type": "markdown",
      "source": [],
      "metadata": {
        "id": "1tb0Lgu-4CaS"
      }
    },
    {
      "cell_type": "code",
      "source": [
        "import os\n",
        "os.chdir('/content/stf')"
      ],
      "metadata": {
        "id": "IOqeDF2Ye9I5"
      },
      "execution_count": 75,
      "outputs": []
    },
    {
      "cell_type": "code",
      "source": [
        "import os\n",
        "cwd = os.getcwd()\n",
        "print(\"Current working directory:\", cwd)"
      ],
      "metadata": {
        "colab": {
          "base_uri": "https://localhost:8080/"
        },
        "id": "AvulZgHDfIOY",
        "outputId": "c0d9dc66-fa73-4164-ed94-9c5ae4bbf422"
      },
      "execution_count": 76,
      "outputs": [
        {
          "output_type": "stream",
          "name": "stdout",
          "text": [
            "Current working directory: /content/stf\n"
          ]
        }
      ]
    },
    {
      "cell_type": "code",
      "source": [
        "# basename function\n",
        "import os\n",
        "out = os.path.basename(\"/content/stf\")\n",
        "print(out)"
      ],
      "metadata": {
        "colab": {
          "base_uri": "https://localhost:8080/"
        },
        "id": "rxJsrmAYhlI7",
        "outputId": "58533dd7-67ca-4bed-e14d-d80305834c51"
      },
      "execution_count": 77,
      "outputs": [
        {
          "output_type": "stream",
          "name": "stdout",
          "text": [
            "stf\n"
          ]
        }
      ]
    },
    {
      "cell_type": "code",
      "source": [
        "# isdir function\n",
        "import os\n",
        "out = os.path.isdir(\"/content/stf\")\n",
        "print(out)"
      ],
      "metadata": {
        "colab": {
          "base_uri": "https://localhost:8080/"
        },
        "id": "uEdMxzabh6Va",
        "outputId": "e7b8f583-29d3-4502-9623-0d5a33fbb37b"
      },
      "execution_count": 84,
      "outputs": [
        {
          "output_type": "stream",
          "name": "stdout",
          "text": [
            "True\n"
          ]
        }
      ]
    },
    {
      "cell_type": "code",
      "source": [
        "import os\n",
        "variable_output=os.path.isfile(\"/content/stf/meta.txt\")\n",
        "print(variable_output)"
      ],
      "metadata": {
        "colab": {
          "base_uri": "https://localhost:8080/"
        },
        "id": "DuL0cjrVh6Cg",
        "outputId": "996a6e5f-d768-4c48-ad50-61adc259efdc"
      },
      "execution_count": 88,
      "outputs": [
        {
          "output_type": "stream",
          "name": "stdout",
          "text": [
            "True\n"
          ]
        }
      ]
    },
    {
      "cell_type": "code",
      "source": [],
      "metadata": {
        "id": "XcgvFRA5h58_"
      },
      "execution_count": null,
      "outputs": []
    },
    {
      "cell_type": "code",
      "source": [],
      "metadata": {
        "id": "AYg53cs1h56Q"
      },
      "execution_count": null,
      "outputs": []
    },
    {
      "cell_type": "code",
      "source": [],
      "metadata": {
        "id": "ordTLHkbh51y"
      },
      "execution_count": null,
      "outputs": []
    },
    {
      "cell_type": "code",
      "source": [],
      "metadata": {
        "id": "ZPUpjpSFh5C5"
      },
      "execution_count": null,
      "outputs": []
    },
    {
      "cell_type": "code",
      "source": [
        "import os\n",
        "directory = \"somu\"\n",
        "parent_dir = \"/content/stf\"\n",
        "path = os.path.join(parent_dir, directory)\n",
        "\n",
        "os.mkdir(path)\n",
        "print(\"Directory '% s' created\" % directory)\n"
      ],
      "metadata": {
        "id": "odGyvp6MgBPM"
      },
      "execution_count": null,
      "outputs": []
    },
    {
      "cell_type": "markdown",
      "source": [
        "make a directory named allu in side content"
      ],
      "metadata": {
        "id": "STiR4cKNoHUk"
      }
    },
    {
      "cell_type": "markdown",
      "source": [],
      "metadata": {
        "id": "cvnXKYJeoIMR"
      }
    },
    {
      "cell_type": "markdown",
      "source": [],
      "metadata": {
        "id": "CVuC1eIKoIPp"
      }
    }
  ]
}