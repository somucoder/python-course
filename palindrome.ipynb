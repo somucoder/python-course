{
  "nbformat": 4,
  "nbformat_minor": 0,
  "metadata": {
    "colab": {
      "provenance": [],
      "authorship_tag": "ABX9TyOu1IiCMnKtlFD7CM+YfbuH"
    },
    "kernelspec": {
      "name": "python3",
      "display_name": "Python 3"
    },
    "language_info": {
      "name": "python"
    }
  },
  "cells": [
    {
      "cell_type": "code",
      "execution_count": 2,
      "metadata": {
        "colab": {
          "base_uri": "https://localhost:8080/"
        },
        "id": "CYmQrk8VzKvN",
        "outputId": "fb12cdcb-d2d6-4fc1-8a04-9a5da076ad68"
      },
      "outputs": [
        {
          "output_type": "stream",
          "name": "stdout",
          "text": [
            "['key1', 'key2', 'key3', 'key4', 'key5']\n"
          ]
        }
      ],
      "source": [
        "dictl={\n",
        "    \"key1\":1,\n",
        "    \"key2\":2,\n",
        "    \"key3\":3,\n",
        "    \"key4\":4,\n",
        "    \"key5\":5,\n",
        "}\n",
        "print(list(dictl))"
      ]
    },
    {
      "cell_type": "code",
      "source": [
        "marks=input(\"enter your marks\").split(\"/\")\n",
        "print(marks)\n",
        "print(type(marks))\n",
        "tup=tuple(marks)\n",
        "print(tup)\n",
        "print(type(tup))\n",
        "print(tup[1])\n",
        "print(tup[::-1])\n",
        "reversedtup=tup[::-1]\n",
        "print(reversedtup)"
      ],
      "metadata": {
        "colab": {
          "base_uri": "https://localhost:8080/"
        },
        "id": "Ng5i_8Rp01Y7",
        "outputId": "7239a580-af0d-45b1-8bbd-501e5adc0a94"
      },
      "execution_count": 10,
      "outputs": [
        {
          "output_type": "stream",
          "name": "stdout",
          "text": [
            "enter your marks1/2/3/4/5\n",
            "['1', '2', '3', '4', '5']\n",
            "<class 'list'>\n",
            "('1', '2', '3', '4', '5')\n",
            "<class 'tuple'>\n",
            "2\n",
            "('5', '4', '3', '2', '1')\n",
            "('5', '4', '3', '2', '1')\n"
          ]
        }
      ]
    },
    {
      "cell_type": "code",
      "source": [
        "def isPalindrome(s1,s2):\n",
        "  reversedstring=s2[::-1]\n",
        "  if reversedstring==s1:\n",
        "    return True\n",
        "  else:\n",
        "    return False\n",
        "\n",
        "s1=input(\"enter first string\")\n",
        "s2=input(\"enter second string\")\n",
        "print(isPalindrome(s1,s2))"
      ],
      "metadata": {
        "colab": {
          "base_uri": "https://localhost:8080/"
        },
        "id": "AEWviJEz01Vv",
        "outputId": "92cbafa7-0ace-4c5c-80b7-2b1d799d1956"
      },
      "execution_count": 12,
      "outputs": [
        {
          "output_type": "stream",
          "name": "stdout",
          "text": [
            "enter first string121\n",
            "enter second string121\n",
            "True\n"
          ]
        }
      ]
    },
    {
      "cell_type": "code",
      "source": [
        "def isPalindrome(s1):\n",
        "  reversedstring=s1[::-1]\n",
        "  if reversedstring==s1:\n",
        "    return True\n",
        "  else:\n",
        "    return False\n",
        "\n",
        "s1=input(\"enter first string\")\n",
        "s2=input(\"enter second string\")\n",
        "print(isPalindrome(s1))"
      ],
      "metadata": {
        "colab": {
          "base_uri": "https://localhost:8080/"
        },
        "id": "a8q1PXFo01GK",
        "outputId": "e7d7c938-4183-4db6-f949-23c5a5760ec7"
      },
      "execution_count": 13,
      "outputs": [
        {
          "output_type": "stream",
          "name": "stdout",
          "text": [
            "enter first stringhih\n",
            "True\n"
          ]
        }
      ]
    },
    {
      "cell_type": "code",
      "source": [
        "dictl={\n",
        "    \"key1\":\"somu\",\n",
        "    \"key2\":\"is\",\n",
        "    \"key3\":\"a\",\n",
        "    \"key4\":4,\n",
        "    \"key5\":5,\n",
        "}\n",
        "#print(dictl[\"key10\"])\n",
        "print(dictl.get(\"key10\"))\n",
        "print(list(dictl))\n",
        "print(dictl[\"key2\"])\n",
        "print(dictl.values())\n"
      ],
      "metadata": {
        "colab": {
          "base_uri": "https://localhost:8080/"
        },
        "id": "W2W-_oai01Cv",
        "outputId": "fbb5eeab-6318-4303-bc06-42051bfc26e3"
      },
      "execution_count": 21,
      "outputs": [
        {
          "output_type": "stream",
          "name": "stdout",
          "text": [
            "None\n",
            "['key1', 'key2', 'key3', 'key4', 'key5']\n",
            "is\n",
            "dict_values(['somu', 'is', 'a', 4, 5])\n"
          ]
        }
      ]
    },
    {
      "cell_type": "code",
      "source": [],
      "metadata": {
        "id": "nhSMF6_E00_-"
      },
      "execution_count": null,
      "outputs": []
    },
    {
      "cell_type": "code",
      "source": [],
      "metadata": {
        "id": "n1z5a7yg008m"
      },
      "execution_count": null,
      "outputs": []
    },
    {
      "cell_type": "code",
      "source": [],
      "metadata": {
        "id": "oVnmsXXc002N"
      },
      "execution_count": null,
      "outputs": []
    },
    {
      "cell_type": "code",
      "source": [],
      "metadata": {
        "id": "L8c_nb_700yx"
      },
      "execution_count": null,
      "outputs": []
    }
  ]
}