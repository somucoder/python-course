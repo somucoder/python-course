{
  "nbformat": 4,
  "nbformat_minor": 0,
  "metadata": {
    "colab": {
      "provenance": [],
      "authorship_tag": "ABX9TyMqHqrZ35E2ghyqmfwej5qt"
    },
    "kernelspec": {
      "name": "python3",
      "display_name": "Python 3"
    },
    "language_info": {
      "name": "python"
    }
  },
  "cells": [
    {
      "cell_type": "code",
      "execution_count": 3,
      "metadata": {
        "colab": {
          "base_uri": "https://localhost:8080/"
        },
        "id": "xmBhpEsOPWFS",
        "outputId": "85ba08fd-a6d7-4f8f-b8fe-e6bb4a3d30bd"
      },
      "outputs": [
        {
          "output_type": "stream",
          "name": "stdout",
          "text": [
            "{'firstname': 'somu', 'lastname': 'swain', 'rollnumber': 2, 'class': 4, 'age': 9, 'section': re.ASCII}\n",
            "<built-in method keys of dict object at 0x7f475f1da080>\n",
            "<built-in method values of dict object at 0x7f475f1da080>\n",
            "['firstname', 'lastname', 'rollnumber', 'class', 'age', 'section']\n",
            "rollnumber\n",
            "['lastname', 'rollnumber', 'class']\n",
            "['lastname', 'rollnumber', 'class']\n"
          ]
        }
      ],
      "source": [
        "from re import A\n",
        "dictl={\n",
        "    \"firstname\":\"somu\",\n",
        "    \"lastname\":\"swain\",\n",
        "    \"rollnumber\":2,\n",
        "    \"class\":4,\n",
        "    \"age\":9,\n",
        "    \"section\":A\n",
        "}\n",
        "print(dictl)\n",
        "print(dictl.keys)\n",
        "print(dictl.values)\n",
        "print(list(dictl))\n",
        "var1=list(dictl)\n",
        "print(var1[2])\n",
        "print(var1[1:4:1])\n",
        "print(list({\"firstname\":\"somu\",\"lastname\":\"swain\",\"rollnumber\":2,\"class\":4,\"age\":9,\"section\":A})[1:4:1])"
      ]
    },
    {
      "cell_type": "code",
      "source": [
        "dictl={\"firstname\":\"somu\",\"lastname\":\"swain\",\"rollnumber\":2,\"class\":4,\"age\":9,\"section\":A}"
      ],
      "metadata": {
        "id": "GpwXeBtyQo4L"
      },
      "execution_count": null,
      "outputs": []
    },
    {
      "cell_type": "code",
      "source": [
        "from os import makedirs\n",
        "marks=input(\"enter\").split(\",\")\n",
        "print(marks)\n",
        "print(type(marks))"
      ],
      "metadata": {
        "colab": {
          "base_uri": "https://localhost:8080/"
        },
        "id": "MrkzIWIoQo0g",
        "outputId": "23abe7a5-e5bf-4680-a940-5137fc1357a5"
      },
      "execution_count": 7,
      "outputs": [
        {
          "output_type": "stream",
          "name": "stdout",
          "text": [
            "enter1,2,3,4\n",
            "['1', '2', '3', '4']\n",
            "<class 'list'>\n"
          ]
        }
      ]
    },
    {
      "cell_type": "code",
      "source": [
        "# prompt: make example of list , tuple, set, dict in 4 lines with 4 characters\n",
        "\n",
        "L=[1,2]\n",
        "T=(3,4)\n",
        "S={5,6}\n",
        "D={'k':7}\n",
        "L.append(3)\n",
        "S.add(5)\n",
        "D[\"k2\"]=2\n",
        "print(L,T,S,D)"
      ],
      "metadata": {
        "colab": {
          "base_uri": "https://localhost:8080/"
        },
        "id": "1Fwx_2otQouw",
        "outputId": "b344d923-4c82-477b-ed8c-59a12dd9393e"
      },
      "execution_count": 15,
      "outputs": [
        {
          "output_type": "stream",
          "name": "stdout",
          "text": [
            "[1, 2, 3] (3, 4) {5, 6} {'k': 7, 'k2': 2}\n"
          ]
        }
      ]
    },
    {
      "cell_type": "code",
      "source": [
        "# prompt: make example of list , tuple, set, dict in 4 lines with 4 characters\n",
        "\n",
        "L=[7,8]\n",
        "T=(3,4)\n",
        "S={5,6}\n",
        "D={'k':7}\n",
        "L.extend([3,4])\n",
        "S.update({2,7})\n",
        "D.update({\"k2\":2,\"k3\":4})\n",
        "print(L,T,S,D)"
      ],
      "metadata": {
        "colab": {
          "base_uri": "https://localhost:8080/"
        },
        "id": "cUbvYpUl328W",
        "outputId": "84593d1b-3418-45ca-fcbb-31525603db14"
      },
      "execution_count": 17,
      "outputs": [
        {
          "output_type": "stream",
          "name": "stdout",
          "text": [
            "[7, 8, 3, 4] (3, 4) {2, 5, 6, 7} {'k': 7, 'k2': 2, 'k3': 4}\n"
          ]
        }
      ]
    },
    {
      "cell_type": "code",
      "source": [
        "# prompt: make example of list , tuple, set, dict in 4 lines with 4 characters\n",
        "\n",
        "L=[1,2]\n",
        "T=(3,4)\n",
        "S={5,6}\n",
        "D={'k':7}\n",
        "L.insert(3,4)\n",
        "print(L)\n",
        "L.insert(100,50)\n",
        "print(L)\n",
        "L.insert(1,75)\n",
        "print(L)"
      ],
      "metadata": {
        "colab": {
          "base_uri": "https://localhost:8080/"
        },
        "id": "HoKlnfWa325H",
        "outputId": "97f1c450-db73-4e2c-e839-765fe9f33ef7"
      },
      "execution_count": 23,
      "outputs": [
        {
          "output_type": "stream",
          "name": "stdout",
          "text": [
            "[1, 2, 4]\n",
            "[1, 2, 4, 50]\n",
            "[1, 75, 2, 4, 50]\n"
          ]
        }
      ]
    },
    {
      "cell_type": "code",
      "source": [
        "# prompt: make example of list , tuple, set, dict in 4 lines with 4 characters\n",
        "\n",
        "L=[1,2]\n",
        "T=(3,4)\n",
        "S={5,6}\n",
        "D={'k':7,\"k2\":3}\n",
        "L.remove(2)\n",
        "print(L)\n",
        "S.remove(5)\n",
        "print(S)\n",
        "D.popitem()\n",
        "print(D)\n",
        "D.clear()\n",
        "print(D)\n",
        "L.clear()\n",
        "print(L)\n",
        "S.clear()\n",
        "print(S)"
      ],
      "metadata": {
        "colab": {
          "base_uri": "https://localhost:8080/"
        },
        "id": "D6RNb8Nc321h",
        "outputId": "e1e634ce-978b-4c3f-fb70-677752fbab34"
      },
      "execution_count": 32,
      "outputs": [
        {
          "output_type": "stream",
          "name": "stdout",
          "text": [
            "[1]\n",
            "{6}\n",
            "{'k': 7}\n",
            "{}\n",
            "[]\n",
            "set()\n"
          ]
        }
      ]
    },
    {
      "cell_type": "code",
      "source": [],
      "metadata": {
        "id": "NfhtGellQop4"
      },
      "execution_count": null,
      "outputs": []
    }
  ]
}